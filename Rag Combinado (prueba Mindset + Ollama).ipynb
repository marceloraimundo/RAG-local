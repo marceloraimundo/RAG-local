{
 "cells": [
  {
   "cell_type": "code",
   "execution_count": 3,
   "id": "07419965",
   "metadata": {},
   "outputs": [],
   "source": [
    "!pip3 install -qU langchain langchain_community faiss-cpu   \n",
    "# segun chat gpt"
   ]
  },
  {
   "cell_type": "code",
   "execution_count": 1,
   "id": "576d1f9d",
   "metadata": {},
   "outputs": [],
   "source": [
    "# levanta archivo txt\n",
    "with open(\"C:/Users/Usuario/Desktop/Rimoldi.txt\") as f:\n",
    "  reforma = f.read()\n",
    "\n",
    "# print (reforma)"
   ]
  },
  {
   "cell_type": "code",
   "execution_count": 2,
   "id": "15485f2e",
   "metadata": {},
   "outputs": [],
   "source": [
    "#The models used\n",
    "embed_model = \"nomic-embed-text\"\n",
    "model = \"gemma2:2b\""
   ]
  },
  {
   "cell_type": "code",
   "execution_count": 23,
   "id": "72b2bfca",
   "metadata": {},
   "outputs": [],
   "source": [
    "# hace chunk naive  ## juego con parametros\n",
    "from langchain.text_splitter import RecursiveCharacterTextSplitter\n",
    "\n",
    "text_splitter = RecursiveCharacterTextSplitter(\n",
    "    chunk_size=600,\n",
    "    chunk_overlap=50,\n",
    "    length_function=len,\n",
    ")"
   ]
  },
  {
   "cell_type": "code",
   "execution_count": 24,
   "id": "efd6bf91",
   "metadata": {},
   "outputs": [
    {
     "name": "stdout",
     "output_type": "stream",
     "text": [
      "IdENTIdAd dE LA ExPERIENCIA REfORMIsTA PLATENsE (1918-1921)\n",
      "Prof. Marcelo J. Rimoldi\n",
      "        “No hay duda que nuestro tiempo es de jóvenes. El péndulo de la Historia  \n",
      "siempre inquieto, asciende ahora por el cuadrante mocedado”\n",
      "Ceñimos el concepto “Reforma en La Plata” al \n",
      "trance vivido por la universidad local entre 1918 \n",
      "y 1921. Puede que estos límites resulten arbitrarios, por cuanto la cronología del movimien to no se circunscribe a la explosión del mismo y \n",
      "su culminación con los cambios estatutarios en \n",
      "cada universidad adherida. Hecha la salvedad,\n",
      "\n",
      "cada universidad adherida. Hecha la salvedad, \n",
      "ese cuadrienio bastó para que, en sus moldes, la \n",
      "Universidad de La Plata asimilase y participase del \n",
      "armado y concreción de la propuesta reformista. \n",
      "Refiere Martínez Estrada, que existen no menos \n",
      "de un centenar de definiciones teóricas correctas \n",
      "de Estado (Martínez Estrada, 1956:252). Salvan do las entendibles distancias, afirmaríamos algo \n",
      "análogo respecto de la Reforma. Al sobrevolarlas, \n",
      "podríamos decir que el proceso en cuestión expresó cabalmente el nacimiento de un nuevo tipo \n",
      "de relación tanto entre universidad y sociedad,\n",
      "\n",
      "de relación tanto entre universidad y sociedad, \n",
      "como entre universidad y política. La Reforma es \n",
      "un capítulo de la historia del país al que se puede acceder desde varios flancos y no es precisamente el criterio geográfico el que nos invita. La \n",
      "Plata y su universidad concurrieron a tal capítulo \n",
      "sí, pero lo hicieron a su tiempo y a su modo. En sí, \n",
      "tal proceso no hizo más que someter al mundo \n",
      "universitario preexistente, a la acción crítica de un \n",
      "sólido aparato conceptual de contornos imprecisos, pero por ello más abierto e incitante. Mucho \n",
      "más que una aventura intelectual; una empresa\n",
      "\n",
      "más que una aventura intelectual; una empresa \n",
      "que pareció ser concebida para el desborde de sí \n",
      "misma, de sus lugares y principios originales. \n",
      "Hacia la diferenciación: tiempo y metas\n",
      "Poniendo foco en el ámbito platense, damos \n",
      "con una atrayente pieza del mosaico reformista, \n",
      "de un grosor insospechado, contando con una \n",
      "universidad -poderoso centro de socialización-  \n",
      "sobre la que se edificaron desde las más  \n",
      "factibles hasta las más quiméricas expectativas. \n",
      "Resulta interesante observar cómo La Plata hubo de conducirse con cierta particularidad, al punto\n",
      "\n"
     ]
    }
   ],
   "source": [
    "naive_chunks = text_splitter.split_text(reforma)\n",
    "\n",
    "for chunk in naive_chunks[0:4]:\n",
    "  print(chunk + \"\\n\")"
   ]
  },
  {
   "cell_type": "code",
   "execution_count": 25,
   "id": "881ba9c6",
   "metadata": {},
   "outputs": [],
   "source": [
    "# Convertir cadenas a objetos Document\n",
    "from langchain.schema import Document\n",
    "\n",
    "texts = [Document(page_content=text) for text in naive_chunks]\n"
   ]
  },
  {
   "cell_type": "code",
   "execution_count": 26,
   "id": "a988b7f3-8210-46f6-a183-119762ddf02a",
   "metadata": {},
   "outputs": [
    {
     "name": "stdout",
     "output_type": "stream",
     "text": [
      "[Document(page_content='IdENTIdAd dE LA ExPERIENCIA REfORMIsTA PLATENsE (1918-1921)\\nProf. Marcelo J. Rimoldi\\n        “No hay duda que nuestro tiempo es de jóvenes. El péndulo de la Historia  \\nsiempre inquieto, asciende ahora por el cuadrante mocedado”\\nCeñimos el concepto “Reforma en La Plata” al \\ntrance vivido por la universidad local entre 1918 \\ny 1921. Puede que estos límites resulten arbitrarios, por cuanto la cronología del movimien to no se circunscribe a la explosión del mismo y \\nsu culminación con los cambios estatutarios en \\ncada universidad adherida. Hecha la salvedad,'), Document(page_content='cada universidad adherida. Hecha la salvedad, \\nese cuadrienio bastó para que, en sus moldes, la \\nUniversidad de La Plata asimilase y participase del \\narmado y concreción de la propuesta reformista. \\nRefiere Martínez Estrada, que existen no menos \\nde un centenar de definiciones teóricas correctas \\nde Estado (Martínez Estrada, 1956:252). Salvan do las entendibles distancias, afirmaríamos algo \\nanálogo respecto de la Reforma. Al sobrevolarlas, \\npodríamos decir que el proceso en cuestión expresó cabalmente el nacimiento de un nuevo tipo \\nde relación tanto entre universidad y sociedad,'), Document(page_content='de relación tanto entre universidad y sociedad, \\ncomo entre universidad y política. La Reforma es \\nun capítulo de la historia del país al que se puede acceder desde varios flancos y no es precisamente el criterio geográfico el que nos invita. La \\nPlata y su universidad concurrieron a tal capítulo \\nsí, pero lo hicieron a su tiempo y a su modo. En sí, \\ntal proceso no hizo más que someter al mundo \\nuniversitario preexistente, a la acción crítica de un \\nsólido aparato conceptual de contornos imprecisos, pero por ello más abierto e incitante. Mucho \\nmás que una aventura intelectual; una empresa'), Document(page_content='más que una aventura intelectual; una empresa \\nque pareció ser concebida para el desborde de sí \\nmisma, de sus lugares y principios originales. \\nHacia la diferenciación: tiempo y metas\\nPoniendo foco en el ámbito platense, damos \\ncon una atrayente pieza del mosaico reformista, \\nde un grosor insospechado, contando con una \\nuniversidad -poderoso centro de socialización-  \\nsobre la que se edificaron desde las más  \\nfactibles hasta las más quiméricas expectativas. \\nResulta interesante observar cómo La Plata hubo de conducirse con cierta particularidad, al punto'), Document(page_content='de llegar a diferenciarse de las otras experiencias \\nuniversitarias, como Córdoba o Buenos Aires, o \\nincluso, a no ser capitaneada por ellas. En efecto, \\namén del tronco común de todos conocido, esta \\ndiferenciación puede verificarse respecto de dos \\nplanos: el de la realidad precedente o “prerreformista”, de impronta gonzaliana, y el de la propia \\ntemporalidad, dato este último sin el cual se suele equívocamente presentar la experiencia platense como efecto lógico y directo de la marea \\nrenovadora proveniente de Córdoba. A contrario'), Document(page_content='renovadora proveniente de Córdoba. A contrario \\nde esa versión, La Plata afrontó una realidad harto distinta; si de reformar se trataba, el objeto \\nallí era diferente y el cambio se conseguiría en \\notro tempo. Completando el panorama, el signo \\nideológico no será el simple anticlericalismo por \\ninspiración antimonárquica y antimonástica, sino \\nel consabido y marcado antipositivismo de cuño \\nbergsoniano.\\nUna mirada seria al proceso local obliga a \\ncontemplar los dos enfoques, el academicista y \\nel netamente político. Este último, escindible en'), Document(page_content='un par de aspectos bien diferenciados, vale decir, el de la relación con el/los responsables de \\nla política nacional y el de la política internacional, básicamente monopolizado por el escenario \\nde la posguerra europea y el curso entusiástico \\nde la Revolución Rusa. Lo primero ofreció un \\ndesencadenante, el de la remoción de un cuestionado claustro docente que no llegaría a reaccionar en su defensa; lo segundo, proveyó al \\nmovimiento de un planteo sociopolítico que iba \\ndesde el humanitarismo al crudo anticatolicismo \\ny al antimperialismo. Completando el cuadro de'), Document(page_content='y al antimperialismo. Completando el cuadro de \\ncoordenadas, el Radicalismo en el poder como \\nproducto del ascenso de los sectores medios y \\nun progresismo succionante del elemento juvenil \\nhacia la “revolución social”. En fin, un contexto de \\ngran densidad que podríamos fundir en aquella \\nexpresión vertida por la Federación Universitaria 41en noviembre de 1919: “Es necesario advertir \\na los maestros que los tiempos son otros (…)”1.\\nAbundan los diagnósticos respecto del status \\nquo de la universidad platense para 1918-1919, \\npero tomamos intencionalmente el que tiene'), Document(page_content='pero tomamos intencionalmente el que tiene \\ncomo autor a una de las figuras más influyentes, \\nAlejandro Korn, dado que fue el adoptado como \\nverosímil por los dirigentes y simpatizantes del \\nreformismo. La causa era “la protesta contra los \\nresabios anacrónicos del pasado y el deseo de \\nenaltecer la vida universitaria”. Y se agregaba: \\n“las trabas y tutelajes que constreñían el estudio \\ny sofocaban toda espontaneidad”, así como “los \\nmétodos que deprimían la personalidad humana” (Aznar, 1961:20). Lapidaria descripción de \\nlo que en principio se tenía por una universidad'), Document(page_content='lo que en principio se tenía por una universidad \\nmás moderna que sus similares y escapando a \\nalgunas generales de la ley de la época. Por caso, \\nno se trataba bajo ningún aspecto de una universidad “de casta”, al decir de Nicodemo Scenna. \\nPara ser justos, fuera o no la universidad de La \\nPlata – como sostienen algunos autores respetables – modelo referencial para la concepción de \\nreformas por parte del interventor de su similar \\nde Córdoba, nadie puede hoy negar que la realidad preexistente, la de la Universidad Nueva, \\nmotu proprio, había establecido modestos pero'), Document(page_content='motu proprio, había establecido modestos pero \\niniciáticos avances en materia de representación \\ndocente y estudiantil, sugerentes de un perfil institucional auspicioso. ¿Universidad anticipadora? \\nEl debate está apenas en ciernes. Lo cierto es \\nque en esa universidad se incubaban novedades \\ncomo la correlación de estudios, la extensión, el \\ncarácter científico, el anhelo de actualización y la \\nrelativa participación estudiantil. Más allá de Rodolfo Rivarola, figuras progresistas como Julio V. \\nGonzález, Carlos Sánchez Viamonte, G. Bermann, \\nJ. Lunazzi, ponderaron a La Plata como referente.'), Document(page_content='A las claras, una universidad no refractaria a posibles cambios, sin influencia eclesiástica, sobre \\nla que no cabía el anacronismo como imputación \\ny donde el mesianismo reformista no tenía frente a sí la universidad “claustral” sino la “universidad – laboratorio”. Amén de ello, la renovación \\nhabría de llegar y la herramienta institucional y \\nde choque, la Federación Universitaria de La Plata (FULP), estaba dispuesta.\\nAlgún desavisado podrá culpar al movimiento \\nplatense de desarrollo a ralentí, o menospreciar su aporte que vino a terminar de vertebrar el'), Document(page_content='movimiento a nivel nacional. Existen dos equívocos en esto; uno, nace de no detectar que, a \\nplena voluntad, el movimiento local había aceptado un sobreentendido contrato, que tendrá \\ncumplimiento en dos etapas, una implícita o de \\nsolidarización y otra explícita o de sustanciación; \\ncontrato que de todos modos y en ese orden \\nfue cumplido. El restante equívoco, surge de no \\ninterpretar que lo actuado en La Plata no vino \\nsólo a reforzar los avances realizados en los \\nfocos antecedentes, sino a servir de verdadero'), Document(page_content='focos antecedentes, sino a servir de verdadero \\nfactor de vertebración, sólo que, en una temporalidad propia y ulterior. En la anatomía del \\nmovimiento reformista La Plata no fue un miembro sino un órgano porque alcanzó identidad y \\nconsistencia necesarias. Para fines de 1918, era \\nuna incógnita de qué manera esta ciudad interpretaría el nuevo mandato juvenil universitario. \\nTal interpretación no promovió, precisamente, \\nuna Reforma con minúscula. Si bien la protesta \\nde los estudiantes de Agronomía y Veterinaria'), Document(page_content='de los estudiantes de Agronomía y Veterinaria \\ncomenzó en junio de 1917 por deficiencias didácticas y mala orientación de los estudios en \\ncinco cátedras de segundo año de Agronomía, \\ntambién es cierto que en la ciudad inicialmente \\nse vivió la Reforma con un toque desapresurado. Las medidas adoptadas con los profesores \\nimputados de esa facultad no dieron satisfacción a los reclamos y recién fue en septiembre \\n-octubre de 1918 cuando el espíritu reinvindicatorio se desató, aunque tampoco de manera \\ngeneralizada.\\n En el ánimo de precisar objetivos, adquiría'), Document(page_content='En el ánimo de precisar objetivos, adquiría \\nprioridad el de la reforma de la Ley – Convenio y \\nel Estatuto Universitario, de lo que se derramarían \\nurticantes cuestiones como la indefinida posesión \\nde los cargos, el nepotismo – en muchos casos \\nmero amiguismo -, la acumulación de cátedras en \\npocas manos… Todos vicios a reparar pero en una \\nclara dirección: colocar a la universidad al servicio \\nde las necesidades de la comunidad y de ser posible incluyendo a sectores inveteradamente postergados, para lo cual la flexibilización educativa \\n(extensión) aparecía como condición necesaria.'), Document(page_content='(extensión) aparecía como condición necesaria. \\nSobre ello, el desafío de  reorientar los estudios \\ny los métodos teniendo entre manos un mundo \\nacadémico que hasta hacía muy poco se jactaba \\nde moderno y cientificista.42Épica y suerte del movimiento\\nPuede decirse que la clave de inicio de la experiencia platense la encontraremos en un conflicto de orden casi extrauniversitario. Los \\nestudiantes platenses venían cumpliendo con su \\nacompañamiento solidario a Córdoba, cuando \\nencontraron la chispa en el arsenal exagerando \\nun problema de orden menor, casi doméstico y'), Document(page_content='un problema de orden menor, casi doméstico y \\nde una necesidad de solución de dudosa perentoriedad, como lo fue el de la Facultad de Agronomía y Veterinaria. El estudiantado de La Plata \\nnecesitó un enemigo bien definido e identificable, \\nacaso para quedar a tenor del conflicto cordobés \\ny remedar sus contundentes causales. He allí el \\npretendido documento – eje del movimiento local \\n(“Campaña contra la Gran Colecta”)2 que fustigaba \\nla acción solidaria de la Iglesia Católica  y que la \\nFULP convirtió en una perfecta pieza de anticlericalismo – clericalismo inexistente en La Plata – y'), Document(page_content='de fuerte antiaristocratismo, llegando hasta a denunciar una suerte de resucitación del ideal de \\nEstado teocrático en el país (!). Es así que la Reforma supuestamente inspirada en preocupaciones \\nde índole universitaria, irrumpía con planteos \\npoco corporativos; se hablaba del “despertar de la \\njusticia”, del “despertar violento del espíritu obrero”, a la vez que en un principio se incriminaba \\nmenos al Presidente de la Universidad o su Consejo Superior, que al Congreso de la Nación y al \\nPoder Ejecutivo Nacional. Así, La Plata adhirió al'), Document(page_content='movimiento general a través de un forzado cuestionamiento del modelo universitario prerreformista gonzaliano, perfilándose como una plaza en \\nsintonía con Córdoba, pero por el momento no \\ncoactiva. El Presidente Rivarola, malinterpretando, \\natribuía tal sintonía a puro “compañerismo”. Era \\nun Luis XVI, que en su diario personal del 14 de \\njulio, escribía: “Nada”. No comprendió que su universidad era tiempo, lugar y circunstancia para la \\nReforma; valer decir, que progresivamente surgirían aspiraciones a plasmar, no todas adquiridas \\npor mera mímesis universitaria. Evidentemente,'), Document(page_content='por mera mímesis universitaria. Evidentemente, \\nexistía una carga estimulante que conminaba a la \\njuventud en tanto que segmento social y, más \\ntemprano que tarde, el estímulo dio fruto. Razones de espacio nos impiden ofrecer el proceso \\nlocal en pormenor. Sin embargo, aunque a grueso \\ntrazo, es en él donde habrá de descubrirse la identidad del aporte platense que, como sostene mos, escapó a la simple subsidiariedad. Su producción congénere pasó de aparearse con las \\notras hasta hacerse centro de atracción en el bienio 1919-1920. Un ensayo de periodización más'), Document(page_content='preciso obliga a visualizar tres etapas. La primera, \\nde solidarización en la que el activismo reformista \\nse expresó desde 1918 y hasta 1919 por vía del \\napoyo corporativo a Córdoba y Buenos Aires; la \\nsegunda, de sustanciación o de real movilización \\nextendida hasta 1922; y una tercera, desde esa \\nfecha en adelante  que denominaríamos de estabilización, en la que vigente ya el nuevo estatuto y \\nsofrenadas las aventuradas posturas del maxima lismo, se evolucionó hacia un estado de “post-Reforma” o de Reforma instituida. Todo indica que la'), Document(page_content='Reforma en La Plata se inició a través de la gestión \\nexterna, vale decir, de las significativas aportaciones del estudiantado a los dos centros generadores. Etapa de aprendizaje y asimilación del \\nmensaje renovador, también lo fue de maduración ideológica y operativa de la FULP. A la vez, \\npara ir mensurando el posible conflicto con la autoridad, que justificase la inoculación de la propuesta reformadora. Por razones de preexistencia, \\ncuando Córdoba sembraba y comenzaba a cosechar, el clima institucional de La Plata apenas preparaba la tierra, no por pereza sino porque las'), Document(page_content='características de la universidad eran bastante \\ndistintas. Etapa de incubación que se fundó en la \\nadhesión en julio de 1918 al Manifiesto Liminar \\ncordobés. La huelga de dos días decretada por la \\nFULP, el Centro de Estudiantes del Colegio Nacional y el Centro de Contadores de la Escuela de \\nComercio, no pasó de un acompañamiento a una \\nlucha que La Plata parecía todavía no poder hacer \\nsuya. Aun así, fue declarada una nueva huelga \\ncontra la Córdoba del Interventor Nores. Acto seguido, se envió la diputación al Congreso Estu diantil de esa provincia. Dando algo más que el'), Document(page_content='“presente”, los interlocutores platenses contribuyeron a la confección de la plataforma principista \\nde la Reforma. Restaba el aterrizaje de ese cuerpo \\nde doctrina a realidad tan particular como la platense, en la que por ejemplo, el propio Presidente \\nRivarola accedía en octubre de 1918 a algunas \\ndemandas estudiantiles, aunque sin conceder \\nvoto a los representantes de la Federación en los \\nconsejos Superior y Académicos. Esto retrasó sin 43duda, la acción directa. De todos modos, afloraban ya síntomas suficientes para justificarla, tales'), Document(page_content='como el excesivo poder de los consejos académicos, la dudosa calidad de algunos docentes, programas construidos inconsultamente, desorden \\nadministrativo… En fin, algo de aquello que había \\nsuscitado la  crisis en la Facultad de Agronomía y \\nVeterinaria, el flanco más débil. En noviembre se \\nsumó al escenario la Escuela de Santa Catalina, la \\nque fue rodeada por un campamento estudiantil \\nque ofició de símbolo de lucha. Rivarola no intuyó \\nla derivación y no concedió más que “voz” en los \\nconsejos. Creció el descontento y en simultáneo, \\nse importó otro conflicto: la pretendida abolición'), Document(page_content='del examen de ingreso a las facultades que erigió \\nal Colegio Nacional como líder de la movilización \\nde los secundarios de la ciudad y que tuvo como \\nefecto su cierre el 14 de abril de 1919. En junio de \\nese año los estudiantes de Agronomía y Veterinaria denunciaron graves anomalías y solicitaron la \\nintervención de esa dependencia. La FULP redactó un memorial presentando cargos contra las \\nautoridades de esa facultad y reclamó al Consejo \\nSuperior por la demora en la concreción de medidas reparadoras. El 2 de septiembre ese alumna do se declaró en huelga hasta que dicho Consejo'), Document(page_content='decretase la intervención. La Federación se declaró en sesión permanente, decretó la “Huelga General de todos los estudiantes de la Universidad” \\ncon carácter indefinido. Era la “Huelga Grande” \\nque duraría hasta junio de 1920, la que fue bautizada como el “primer ademán revolucionario”3. \\nAsombrosamente, la virulencia que asumía el accionar local no se observaba aún en expresiones \\nde odio y descalificación de la institución universidad. En su superficie, el conflicto fincaba todavía \\nen la rémora del Consejo Superior, principal imputado; pero todo se precipitó cuando  Rivarola'), Document(page_content='acusó a la FULP de dar un tinte violento a la huelga. Llegó entonces el pedido de renuncia de dicho \\npresidente y los decanos de las facultades, con \\nmás la amenaza de pedir al Poder Ejecutivo Nacional la intervención ahora de la propia universidad. \\nRivarola adoptó una postura antagónica y buscó \\nel apoyo del Ministerio de Justicia e Instrucción \\nPública. El día 31 se reunió la Asamblea de Estu diantes en el Aula Magna de la universidad. Ya en \\nnoviembre el Poder Ejecutivo rechazó el pedido'), Document(page_content='noviembre el Poder Ejecutivo rechazó el pedido \\nde intervención; el día 2 la FULP se apoderó del edificio central y la bandera argentina fue sustitui da por la de color violeta y blanco. Ondeaba el \\nemblema de la autonomía pero se abría una larga \\nserie de incidentes que a la postre darían épica a \\nla lucha. La FULP pidió la intervención a un Poder \\nEjecutivo más apañador que observador externo \\ny el conflicto se tornó irreductible, sin vuelta atrás. \\nEn jornada célebre, el 8, tras la Asamblea General \\nde Profesores los estudiantes irrumpieron en las'), Document(page_content='de Profesores los estudiantes irrumpieron en las \\ngalerías y el Salón de Actos del edificio central \\npara ser escuchados. La ruptura quedó firme, por \\nlo que el 14, el Presidente clausuró formalmente \\nla universidad hasta marzo de 1920. Comenzaron \\nlos contactos Federación – Ministerio, dado que \\nse transitaba en una virtual acefalía por deserción \\ndel Presidente, cuya solicitud de intervención no \\nprosperó. En otro acto memorable, el 18 se dio la \\ntoma del Museo de Ciencias Naturales entregado \\ncinco días después; el 30 y el 5 de diciembre, se'), Document(page_content='sucedieron sendas tomas de la sede central; en la \\núltima, se produjo el asalto policial y la prisión preventiva de más de setenta estudiantes. Mientras \\ntanto, ya había surgido el Comité Disidente y se \\nhabía hecho la primera edición del periódico Renovación, del grupo del mismo nombre. La voluntad reformadora de Rivarola ante el Ministro \\nSalinas no frenó el impulso estudiantil durante los \\ninicios de 1920. En marzo se volvió a tomar la Escuela de Santa Catalina con el consiguiente traumático desalojo. Una fuerte corriente de \\ntriunfalismo dominaba la opinión estudiantil: “El'), Document(page_content='viejo profesorado amoral se aleja de las aulas”, se \\natrevían a afirmar. Pero el punto más álgido sobrevino con la muerte del estudiante David Francisco Viera acaecida en la Escuela de Medicina el 5 \\nde abril. Nunca se pudo determinar de qué revolver partió la bala asesina (se incautaron más de \\nveinte). Se había llegado a una frontera y por ello \\nadvino cierto entibiamiento del choque abierto \\nFULP – binomio Consejo Superior-Rivarola. Este \\núltimo renunció el día 28 de junio. A más de la conmoción, lo de Viera provocó la suspensión de los \\nexámenes y la expulsión del Consejo de la FULP,'), Document(page_content='exámenes y la expulsión del Consejo de la FULP, \\nasí como la división del frente reformador. En junio, el Poder Ejecutivo aprobó las bases de la Reforma y el 1° de julio se decretó la reforma de los \\nestatutos4. Sonaron los petardos y los dos bandos \\ndel reformismo local se entregaron al festejo. \\nHubo cierta distensión, pero contradictoriamente 44el movimiento platense siguió creciendo hasta alcanzar su apogeo. La apertura de las clases recién \\nse dio en junio, acompañado esto de la elección'), Document(page_content='se dio en junio, acompañado esto de la elección \\nde los representantes estudiantiles al Consejo Superior. El 16 de agosto se reunió la Asamblea General de Profesores y fue elegido Carlos F. Melo \\nPresidente de la Universidad. El foco de conflicto \\nse trasladó entonces al Colegio Nacional en el que \\nhabía sido nombrado Rector Saúl Taborda, una de \\nlas figuras más salientes – aunque resistida por el \\nsector conservador - del movimiento cordobés. \\nEn marzo de 1921 se firmó la ordenanza sobre \\nrepresentación de alumnos y egresados en los'), Document(page_content='representación de alumnos y egresados en los \\nconsejos académicos y superiores. Tras un conflicto con Taborda, Melo renunció y fue elegido \\nBenito Nazar Anchorena el 26 de noviembre, \\nquien asumió el 1° del mes siguiente. Más allá del \\nrelevo de hombres en ese año tuvo lugar lo que \\nfuera sindicado como la consecuencia más trascendente de la reforma local, la creación de la Facultad de Humanidades y Ciencias de la Educación \\ndesde la que se irradió una significativa influencia antipositivista. Se había resuelto un choque'), Document(page_content='de necesidades, la de Rivarola, que no supo explotar políticamente profundizando los principios con los que González había dispuesto la \\nprerreforma platense, y la necesidad de un espíritu rebelde que más allá de los reclamos justos, \\nno pensó en ningún momento negociar para evitar la explosión del antagonismo. Rivarola atizó \\nesa rebeldía y ella se llevó por delante y aplastó \\nla alternativa de una reforma civilizada, pacífica, \\nsin víctimas ni vencedores.\\nA partir de 1922 el espíritu de lucha parece \\ndeclinar. Después de tanta acción sobrevino el'), Document(page_content='declinar. Después de tanta acción sobrevino el \\nenclaustramiento. Es que una demanda central ya \\nhabía sido satisfecha: la representación estudian til. Se ha insinuado incluso cierto anacronismo del \\nmovimiento al resignar su cuota de audacia. Quedaba lo real y tangible. No obstante ello, menos \\npor inercia que por empuje de los sectores más \\nideologizados y progresistas, se hizo patente la \\nresistencia de los que no aceptaban una reforma \\nagotada en sí misma, es decir, sin más aspiraciones en el campo sociopolítico. ¿La Reforma como \\nmedio o como fin? Advino entonces un trance que'), Document(page_content='medio o como fin? Advino entonces un trance que \\npodríamos identificar como de crisis de desarrollo, en el que se entrecruzaban expectativas bien \\ndistintas de los sectores en los que la dirigencia estudiantil se había dividido. En efecto, lo que sin \\nduda dio espesor al proceso local fue la existen cia de crecientes diferencias ideológicas entre los \\ncuadros dirigenciales, las que se tradujeron en \\nuna encontrada interpretación de metas. No se \\ntrató de apenas un matiz. Hubo contrapunto, violencia asociada sí, pero también polifonía que enriqueció el concepto “Reforma”. En determinado'), Document(page_content='momento, lo que para la FULP eran “fuerzas oscuras”, el sector moderado (Liga Universitaria desde \\nenero de 1920, Comité Universitario Disidente y \\nluego Concentración Universitaria), vino a sustituir \\nal enemigo original, o sea, Rivarola y el Consejo \\nSuperior. Entonces la contienda no conoció tregua hasta 1923. Puede decirse que ya en 1921 \\nhabía llegado el momento de glorificar la gesta \\npero también de que la Reforma platense, que \\nno había sido precisamente epidérmica, encontrase sus propios límites si es que debía tenerlos.'), Document(page_content='Para algunos, esos límites significaban el estan camiento que frustraba los ideales más osados, \\nentendiéndose que “Reforma” era un concepto \\nde naturaleza trascendente que debía promover \\nun orden sociopolítico nuevo; para otros, el presente da cuenta de ello, se había establecido sin \\nmás el formato definitivo para la reconfiguración \\ndel espacio universitario. Más allá de esto último e instituidos los cambios, en su aplicación a \\ncada dependencia universitaria, el proceso tendió \\na atomizarse, a enturbiarse por las incidencias \\nque tuvieron lugar en varias de ellas. ¿Cuál era'), Document(page_content='que tuvieron lugar en varias de ellas. ¿Cuál era \\nel verdadero marco de esta Reforma? ¿Los grandes planteos americanistas o las sordas batallas \\nmenores en el seno de las facultades? Todo quiso que ambas cosas. El atomismo era un peligro \\npero nunca de retraimiento o renuncia de algún \\nderecho adquirido. Más allá del mesianismo, esas \\n“batallas” eran la conscripción obligada hacia la \\nmaterialización de metas estrictamente académicas y al disciplinamiento de cada parte, según \\nun nuevo modus universitario. En cuanto al marco \\ntemporal, el cuadrienio no sería suficiente para el'), Document(page_content='desarraigo de un estilo de universidad que no era \\nprecisamente atávico. En fin, pura evolución, desde luego sujeta a vaivenes de la política nacional. \\n¿Podría la autoridad reformista controlar ideológicamente un espacio cultural cada vez más abierto \\ny tentador? Como fuere, ya en fase de estabilización, la universidad se convirtió bajo las nuevas  45reglas en la suma de pequeños pantanos en los \\nque alguna utopía se trababa o hundía en las \\nrencillas por un consejero, un decanato, una cátedra… Visto en la perspectiva del desenfreno de \\n1919, un modelo prensado, desecado. Dejamos'), Document(page_content='1919, un modelo prensado, desecado. Dejamos \\na juicio del lector, el capítulo sobre deudas. En \\nverdad, dicho modelo buscaba su plenificación, \\nsus alcances y en la búsqueda consiguió perdurabilidad sin extraviar su alfabeto. Todo quedó \\nen un proceso metabólico similar al de la asimilación alimenticia que el cuerpo – la universidad \\n– haría respecto de lo que consideraba justo y \\nnecesario desechando lo residual. No se trató \\nde un encogimiento del planteo original; sólo \\nse hacía un uso limitado y censurado de dicha \\npropuesta disparadora. La política nacional haría'), Document(page_content='el resto. Basta con marcar que en 1931 la universidad de La Plata como la del Litoral fueron \\nintervenidas. Hasta que el sistema adquiriese el \\nrodaje necesario, la experiencia platense pareció desmigajada en situaciones particulares de \\ncada unidad académica, esto, acompañado con \\nel grave e injusto desplazamiento de los colegios \\nuniversitarios – nominalmente lo eran – de los \\nbeneficios estatutarios.\\nLa lectura atenta del proceso nos deja frente \\na dos senderos interpretativos: ¿Fue la Reforma \\nuna serie coherente de soluciones sectoriales o'), Document(page_content='una serie coherente de soluciones sectoriales o \\nuna transformación  dinámica y como tal abierta y \\npoco previsible en materia de límites? Por lo pronto era “nueva savia inyectada al árbol viejo”5. Eso \\nsí, un árbol viejo que no estaba a cargo de frailes, \\nni era de tradición colonial. Alzado el velo de la \\ncrónica, queda sin embargo aquello de lo que no \\nestuvo exento el movimiento general: el complejo \\nde insatisfacción, la remaneciente percepción de \\nincompletud. Es que el impulso había inducido a \\nla hiperbolización en lo teórico, lo discursivo y lo'), Document(page_content='simbólico, muy entendible si consultamos el tono \\ny el arrojo idealista de los interlocutores platenses, un Korn y un Ripa Alberdi, por sólo tomar \\nlúcidos extremos generacionales. Si se llegó a \\ncambiar verdaderamente la estructura universita ria o fue tan sólo un remozamiento estatutario, \\nseguirá siendo objeto de debate. Con desbocado idealismo juvenil, azuzado por referentes de \\npeso humano e intelectual, La Plata había aportado sus “falanges de la nueva generación” y dejaba en pie, incustionablemente, un sistema de representación institucional. Sosegado el pathos'), Document(page_content='juvenil, era lógico que en los más encendidos restase una suerte de aire de renuncia. De Kropotkin o Malatesta, se bajaba a la mejor democracia \\nuniversitaria posible; la exigencia de “equidad colectiva” liberadora del hombre, de las “multitudes \\nproletarias”, se derretía en la desgastante puja \\ncon la “derecha universitaria”. Lo que parecía ser \\ninapetencia revolucionaria, falta de “conciencia \\nsocial” o la escasa voluntad de “revisión social” no \\nera otra cosa que el natural efecto del contrapeso ideológico, la fortaleza del moderantismo. De'), Document(page_content='la “redención de América por la inteligencia”, al \\ndecir de Héctor Agosti (1975:150), ni que hablar. \\nEn verdad, a más de tal adversidad, el principal \\nefecto inhibidor era la propia concreción de sus \\npropósitos elementales que no quedaron precisamente arrumbados. La ineluctabilidad de esto no \\nmerece mayor comentario. La Plata tenía su botín, \\nel cogobierno y, desde luego, activo un acendrado \\nconcepto de libertad con participación. Lo palpable y no menos sensual. La República recién accedía a su primera experiencia democrática; pues \\nla universidad acababa de acceder al derecho a'), Document(page_content='la universidad acababa de acceder al derecho a \\ntener la suya. Era tiempo de darle contenido académico seguro, sustentable. El alcance social de \\nla Reforma era aún indeterminable y el tiempo \\ndiría si tal aspecto era o no puro bizantinismo. La \\nReforma no tuvo un carácter remedial; necesita ba futuro y el camino a transitar no conducía al \\nenvejecimiento de la propuesta sino a la maduración de sí misma. En rigor, madurar bajo el reto \\nde autopreservación. La Plata había sostenido su \\npropio hervor y llegó a ser mucho más que “repercusión” tardía. No le cupo ser la nave insignia,'), Document(page_content='pero sí operar como un vector más para un apodíctico esfuerzo de exclaustración de la cultura. \\nHasta la fecha, la realidad universitaria no reniega \\nde lo actuado en aquel puñado de años. Muy lejos \\nde ello, lo sigue legitimando.\\nBibliografía\\nAGOSTI, H. (1975). Ingenieros. Ciudadano de la juventud. Buenos Aires: Juárez Editor.\\nAzNAR , L. (1961) “Alejandro Korn y la Universidad \\nargentina”, en: Revista de la Universidad. T. 12.'), Document(page_content='MARTíNEz ESTRADA, E. (1956). Cuadrante del Pampero. Buenos Aires: Deucalion.46ORTEGA Y GASSET, J. (1957). “¿Masculino o feme nino?”, en: Obras Completas. T.III, 1917-1928, Madrid, Revista de Occidente.\\n1 La Federación Universitaria al pueblo y a los estudiantes, noviembre de 1919. Afiche conserva do en el Museo de Instrumentos Musicales “Dr.  \\nEmilio Azzarini”, UNLP.\\n2 Manifiesto de la Federación Universitaria de La \\nPlata al pueblo y los estudiantes. 30 de septiembre de 1919. Museo de Instrumentos Musicales \\n“Dr. Emilio Azzarini”, UNLP\\n3 Panfleto de la FULP, 20 de octubre de 1920.'), Document(page_content='3 Panfleto de la FULP, 20 de octubre de 1920.  \\nMuseo de Instrumentos Musicales “Dr. Emilio  \\nAzzarini”, UNLP.\\n4 Los profesores titulares surgirían de una terna \\npropuesta por el Consejo Académico de las facultades elevada al Consejo Superior; con su aprobación se presentaría al Poder Ejecutivo para su \\ndesignación. El Consejo Académico se compondría de representantes de los estudiantes y los \\ncuatro profesores más antiguos. Los decanos serían elegidos por las asambleas compuestas por \\nun 50% de profesores, 25% de estudiantes y el \\notro 25% por delegados de los graduados.'), Document(page_content='otro 25% por delegados de los graduados.\\n5 FULP, 25 de febrero de 1920.')]\n"
     ]
    }
   ],
   "source": [
    "print (texts)"
   ]
  },
  {
   "cell_type": "code",
   "execution_count": 27,
   "id": "fedae629",
   "metadata": {},
   "outputs": [],
   "source": [
    "%%time\n",
    "# Generando el contexto\n",
    "\n",
    "from langchain_community.llms import Ollama\n",
    "from langchain_community.vectorstores import FAISS\n",
    "from langchain_community.embeddings import OllamaEmbeddings\n",
    "\n",
    "# Generating embeddings\n",
    "embeddings = OllamaEmbeddings(model=embed_model)\n",
    "\n",
    "# Loading the LLM from Ollama  # recordar Temperature\n",
    "llm = Ollama(model=model)\n",
    "\n",
    "# Creating FAISS index\n",
    "db = FAISS.from_documents(texts, embeddings)\n",
    "\n",
    "# Creating retriever\n",
    "retriever = db.as_retriever()"
   ]
  },
  {
   "cell_type": "code",
   "execution_count": 28,
   "id": "f6a9ca4e",
   "metadata": {},
   "outputs": [
    {
     "data": {
      "text/plain": [
       "[Document(page_content='de necesidades, la de Rivarola, que no supo explotar políticamente profundizando los principios con los que González había dispuesto la \\nprerreforma platense, y la necesidad de un espíritu rebelde que más allá de los reclamos justos, \\nno pensó en ningún momento negociar para evitar la explosión del antagonismo. Rivarola atizó \\nesa rebeldía y ella se llevó por delante y aplastó \\nla alternativa de una reforma civilizada, pacífica, \\nsin víctimas ni vencedores.\\nA partir de 1922 el espíritu de lucha parece \\ndeclinar. Después de tanta acción sobrevino el'),\n",
       " Document(page_content='“presente”, los interlocutores platenses contribuyeron a la confección de la plataforma principista \\nde la Reforma. Restaba el aterrizaje de ese cuerpo \\nde doctrina a realidad tan particular como la platense, en la que por ejemplo, el propio Presidente \\nRivarola accedía en octubre de 1918 a algunas \\ndemandas estudiantiles, aunque sin conceder \\nvoto a los representantes de la Federación en los \\nconsejos Superior y Académicos. Esto retrasó sin 43duda, la acción directa. De todos modos, afloraban ya síntomas suficientes para justificarla, tales'),\n",
       " Document(page_content='viejo profesorado amoral se aleja de las aulas”, se \\natrevían a afirmar. Pero el punto más álgido sobrevino con la muerte del estudiante David Francisco Viera acaecida en la Escuela de Medicina el 5 \\nde abril. Nunca se pudo determinar de qué revolver partió la bala asesina (se incautaron más de \\nveinte). Se había llegado a una frontera y por ello \\nadvino cierto entibiamiento del choque abierto \\nFULP – binomio Consejo Superior-Rivarola. Este \\núltimo renunció el día 28 de junio. A más de la conmoción, lo de Viera provocó la suspensión de los \\nexámenes y la expulsión del Consejo de la FULP,'),\n",
       " Document(page_content='acusó a la FULP de dar un tinte violento a la huelga. Llegó entonces el pedido de renuncia de dicho \\npresidente y los decanos de las facultades, con \\nmás la amenaza de pedir al Poder Ejecutivo Nacional la intervención ahora de la propia universidad. \\nRivarola adoptó una postura antagónica y buscó \\nel apoyo del Ministerio de Justicia e Instrucción \\nPública. El día 31 se reunió la Asamblea de Estu diantes en el Aula Magna de la universidad. Ya en \\nnoviembre el Poder Ejecutivo rechazó el pedido')]"
      ]
     },
     "execution_count": 28,
     "metadata": {},
     "output_type": "execute_result"
    }
   ],
   "source": [
    "# Invoke \n",
    "retriever.invoke(\"que hizo Rivarola\")"
   ]
  },
  {
   "cell_type": "markdown",
   "id": "6a789e53",
   "metadata": {},
   "source": [
    "# pasamos a otra fase"
   ]
  },
  {
   "cell_type": "code",
   "execution_count": 29,
   "id": "daa4ffc2",
   "metadata": {},
   "outputs": [],
   "source": [
    "# hace template\n",
    "\n",
    "from langchain_core.prompts import ChatPromptTemplate\n",
    "\n",
    "rag_template = \"\"\"\\\n",
    "Utilice el siguiente contexto para responder la consulta del usuario. Si no puede responder, responda con \"No lo sé\".'.\n",
    "\n",
    "consulta del usuario:\n",
    "{question}\n",
    "\n",
    "contexto:\n",
    "{context}\n",
    "\"\"\"\n",
    "\n",
    "rag_prompt = ChatPromptTemplate.from_template(rag_template)"
   ]
  },
  {
   "cell_type": "code",
   "execution_count": 30,
   "id": "2dd2779c",
   "metadata": {},
   "outputs": [],
   "source": [
    "# Arma la cadena\n",
    "\n",
    "from langchain_core.runnables import RunnablePassthrough\n",
    "from langchain_core.output_parsers import StrOutputParser\n",
    "\n",
    "rag_chain = (\n",
    "    {\"context\" : retriever, \"question\" : RunnablePassthrough()}\n",
    "    | rag_prompt\n",
    "    | llm\n",
    "    | StrOutputParser()\n",
    ")"
   ]
  },
  {
   "cell_type": "code",
   "execution_count": 22,
   "id": "b7695c43",
   "metadata": {},
   "outputs": [
    {
     "data": {
      "text/plain": [
       "'Rivarola fue presidente de la Universidad Nacional de La Plata y  participó en la reforma local, aunque tuvo conflictos con la FULP (Federación Universitaria de Estudiantes de La Plata). Su postura antagónica se manifestó al renunciar el 28 de junio. \\n'"
      ]
     },
     "execution_count": 22,
     "metadata": {},
     "output_type": "execute_result"
    }
   ],
   "source": [
    "# Envia el prompt overlap=0\n",
    "%%time\n",
    "rag_chain.invoke(\"Que hizo Rivarola\")"
   ]
  },
  {
   "cell_type": "code",
   "execution_count": 32,
   "id": "57dc1f37-f249-4b6f-8b0f-003c752bda9c",
   "metadata": {},
   "outputs": [
    {
     "name": "stdout",
     "output_type": "stream",
     "text": [
      "CPU times: total: 15.6 ms\n",
      "Wall time: 18.6 s\n"
     ]
    },
    {
     "data": {
      "text/plain": [
       "'Rivarola, como presidente de la FULP, enfrentó un conflicto con estudiantes y profesores durante una huelga. Se enfrentó a la presión de los estudiantes y profesores que reclamaban cambios en las universidades. \\n\\nA pesar de que Rivarola accedió a algunas demandas estudiantiles, no pudo evitar que se intensificara la tensión y que la situación llegara a un punto crítico. La muerte de un estudiante, David Francisco Viera, fue un factor clave que desencadenó una ruptura con la FULP y un conflicto con el Poder Ejecutivo Nacional.\\n'"
      ]
     },
     "execution_count": 32,
     "metadata": {},
     "output_type": "execute_result"
    }
   ],
   "source": [
    "# overlap 50\n",
    "%%time\n",
    "rag_chain.invoke(\"Que hizo Rivarola\")"
   ]
  },
  {
   "cell_type": "code",
   "execution_count": 34,
   "id": "f951c30f-167a-4a2a-885a-31c67434e036",
   "metadata": {},
   "outputs": [
    {
     "name": "stdout",
     "output_type": "stream",
     "text": [
      "CPU times: total: 0 ns\n",
      "Wall time: 10.4 s\n"
     ]
    },
    {
     "data": {
      "text/plain": [
       "'Rivarola fue presidente de la FULP y se enfrentó a una huelga estudiantil en la Universidad de la Plata.  Su postura antagónica provocó la suspensión de exámenes y la expulsión del Consejo de la FULP, y finalmente la renuncia de Rivarola. \\n'"
      ]
     },
     "execution_count": 34,
     "metadata": {},
     "output_type": "execute_result"
    }
   ],
   "source": [
    "# overlap 50\n",
    "%%time\n",
    "rag_chain.invoke(\"Que hizo Rivarola\")"
   ]
  },
  {
   "cell_type": "markdown",
   "id": "0477b012-6e9f-4116-bd59-f2226c9e2abf",
   "metadata": {},
   "source": [
    "# observo que al reiterar el invoke va variando las respuestas, aunque las veo correctas"
   ]
  },
  {
   "cell_type": "code",
   "execution_count": null,
   "id": "948c7734-84d2-42e5-ae8e-319fca6c2ad5",
   "metadata": {},
   "outputs": [],
   "source": []
  }
 ],
 "metadata": {
  "kernelspec": {
   "display_name": "Python 3 (ipykernel)",
   "language": "python",
   "name": "python3"
  },
  "language_info": {
   "codemirror_mode": {
    "name": "ipython",
    "version": 3
   },
   "file_extension": ".py",
   "mimetype": "text/x-python",
   "name": "python",
   "nbconvert_exporter": "python",
   "pygments_lexer": "ipython3",
   "version": "3.12.4"
  },
  "widgets": {
   "application/vnd.jupyter.widget-state+json": {
    "state": {},
    "version_major": 2,
    "version_minor": 0
   }
  }
 },
 "nbformat": 4,
 "nbformat_minor": 5
}
